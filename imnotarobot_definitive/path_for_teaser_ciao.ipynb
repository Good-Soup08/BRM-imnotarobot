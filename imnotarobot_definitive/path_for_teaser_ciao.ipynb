{
  "cells": [
    {
      "cell_type": "code",
      "execution_count": null,
      "id": "c3babe26",
      "metadata": {
        "id": "c3babe26"
      },
      "outputs": [],
      "source": [
        "import numpy as np\n",
        "import os"
      ]
    },
    {
      "cell_type": "code",
      "execution_count": null,
      "id": "ce41725e",
      "metadata": {
        "id": "ce41725e"
      },
      "outputs": [],
      "source": [
        "start = 90        # start of the range\n",
        "end = 270         # end of the range\n",
        "num_rows = 90     # number of equally spaced values\n",
        "\n",
        "# constant values for some columns\n",
        "const_col2 = 100\n",
        "const_col3 = 110\n",
        "const_col4 = 110\n",
        "\n",
        "# create the non constant column\n",
        "col1 = np.linspace(start, end, num_rows).reshape(-1, 1)\n",
        "\n",
        "# create constant columns\n",
        "col2 = np.full((num_rows, 1), const_col2)\n",
        "col3 = np.full((num_rows, 1), const_col3)\n",
        "col4 = np.full((num_rows, 1), const_col4)\n",
        "\n",
        "# combine all columns horizontally\n",
        "array1 = np.hstack((col1, col2, col3, col4))"
      ]
    },
    {
      "cell_type": "code",
      "execution_count": null,
      "id": "e9776380",
      "metadata": {
        "id": "e9776380"
      },
      "outputs": [],
      "source": [
        "start2 = 100        # start of the range\n",
        "end2 = 10           # end of the range\n",
        "num_rows2 = 50      # number of equally spaced values\n",
        "\n",
        "# constant values for some columns\n",
        "const_col1 = 180\n",
        "const_col3 = 110\n",
        "const_col4 = 110\n",
        "\n",
        "# create the non constant column\n",
        "col2 = np.linspace(start2, end2, num_rows2).reshape(-1, 1)\n",
        "\n",
        "# create constant columns\n",
        "col1 = np.full((num_rows2, 1), const_col1)\n",
        "col3 = np.full((num_rows2, 1), const_col3)\n",
        "col4 = np.full((num_rows2, 1), const_col4)\n",
        "\n",
        "# combine all columns horizontally\n",
        "array2 = np.hstack((col1, col2, col3, col4))"
      ]
    },
    {
      "cell_type": "code",
      "execution_count": null,
      "id": "ef057842",
      "metadata": {
        "id": "ef057842"
      },
      "outputs": [],
      "source": [
        "start3 = 110        # start of the range\n",
        "end3 = 70           # end of the range\n",
        "num_rows3 = 20      # number of equally spaced values\n",
        "\n",
        "# constant values for some columns\n",
        "const_col1 = 180\n",
        "const_col2 = 10\n",
        "const_col4 = 110\n",
        "\n",
        "# create the non constant column\n",
        "col3 = np.linspace(start3, end3, num_rows3).reshape(-1, 1)\n",
        "\n",
        "# create constant columns\n",
        "col1 = np.full((num_rows3, 1), const_col1)\n",
        "col2 = np.full((num_rows3, 1), const_col2)\n",
        "col4 = np.full((num_rows3, 1), const_col4)\n",
        "\n",
        "# combine all columns horizontally\n",
        "array3 = np.hstack((col1, col2, col3, col4))"
      ]
    },
    {
      "cell_type": "code",
      "execution_count": null,
      "id": "cf4854ad",
      "metadata": {
        "id": "cf4854ad",
        "outputId": "8a14e312-68f0-43cd-bf75-341243a81d96"
      },
      "outputs": [
        {
          "name": "stdout",
          "output_type": "stream",
          "text": [
            "(240, 4)\n"
          ]
        }
      ],
      "source": [
        "array3_reverse = array3[::-1].copy()\n",
        "\n",
        "stacked = np.vstack((array1, array2, array3, array3_reverse, array3, array3_reverse, array3))\n",
        "\n",
        "np.save(\"paths/ciao.npy\",stacked)"
      ]
    }
  ],
  "metadata": {
    "kernelspec": {
      "display_name": "Python 3",
      "language": "python",
      "name": "python3"
    },
    "language_info": {
      "codemirror_mode": {
        "name": "ipython",
        "version": 3
      },
      "file_extension": ".py",
      "mimetype": "text/x-python",
      "name": "python",
      "nbconvert_exporter": "python",
      "pygments_lexer": "ipython3",
      "version": "3.11.9"
    },
    "colab": {
      "provenance": []
    }
  },
  "nbformat": 4,
  "nbformat_minor": 5
}