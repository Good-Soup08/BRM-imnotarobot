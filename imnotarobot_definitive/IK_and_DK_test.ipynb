{
  "cells": [
    {
      "cell_type": "code",
      "execution_count": 1,
      "id": "b4fea5cb",
      "metadata": {
        "id": "b4fea5cb"
      },
      "outputs": [],
      "source": [
        "import math\n",
        "import numpy as np"
      ]
    },
    {
      "cell_type": "code",
      "execution_count": 2,
      "id": "d1a3b10e",
      "metadata": {
        "id": "d1a3b10e"
      },
      "outputs": [],
      "source": [
        "# Link lengths and shoulder height (same as in forward_kinematics_points)\n",
        "l1 = 6.1   # Shoulder → elbow\n",
        "l2 = 11.5   # Elbow → end effector\n",
        "h  = 6.8   # Shoulder height above ground\n",
        "\n",
        "def inverse_kinematics_point(x, y, z, elbow_up=False):\n",
        "\n",
        "    # 1) base yaw:\n",
        "    phi = math.atan2(y, x)\n",
        "    theta1_deg = math.degrees(phi + math.pi/2) # map to robot angles\n",
        "\n",
        "    # 2) project into the shoulder's pitch plane:\n",
        "    r = math.hypot(x, y) # horizontal distance from shoulder\n",
        "    dz = z - h # vertical offset from shoulder\n",
        "\n",
        "    # 3) two‑link planar IK:\n",
        "    D = (r**2 + dz**2 - l1**2 - l2**2) / (2*l1*l2)\n",
        "    if abs(D) > 1.0:\n",
        "        raise ValueError(f\"Point ({x}, {y}, {z}) is out of reach (|D|={D:.3f}>1).\") # limitation of the arm length\n",
        "\n",
        "    # 4) elbow angle:\n",
        "    if elbow_up:\n",
        "        theta3_rad = math.atan2(+math.sqrt(1-D**2), D)\n",
        "    else:\n",
        "        theta3_rad = math.atan2(-math.sqrt(1-D**2), D)\n",
        "\n",
        "    # 5) shoulder pitch:\n",
        "    alpha = math.atan2(dz, r)\n",
        "    beta = math.atan2(l2 * math.sin(theta3_rad), l1 + l2 * math.cos(theta3_rad))\n",
        "    theta2_rad = alpha - beta\n",
        "\n",
        "    # 6) map to robot angle conventions:\n",
        "    theta2_deg = math.degrees(math.pi - theta2_rad)\n",
        "    theta3_deg = math.degrees(theta3_rad + math.pi)\n",
        "\n",
        "    return theta1_deg, theta2_deg, theta3_deg"
      ]
    },
    {
      "cell_type": "code",
      "execution_count": 3,
      "id": "856be3e9",
      "metadata": {
        "id": "856be3e9"
      },
      "outputs": [],
      "source": [
        "def forward_kinematics_points(theta1_deg, theta2_deg, theta3_deg):\n",
        "    theta1 = math.radians(theta1_deg) - np.pi/2\n",
        "    theta2 = np.pi - math.radians(theta2_deg)\n",
        "    theta3 = -(np.pi - math.radians(theta3_deg))\n",
        "\n",
        "    l1 = 6.1   # Shoulder to elbow\n",
        "    l2 = 11.5   # Elbow to end effector\n",
        "    h = 6.8    # Shoulder height from ground\n",
        "\n",
        "    x0, y0, z0 = 0, 0, 0\n",
        "    x1, y1, z1 = 0, 0, h\n",
        "\n",
        "    x2 = x1 + l1 * math.cos(theta2) * math.cos(theta1)\n",
        "    y2 = y1 + l1 * math.cos(theta2) * math.sin(theta1)\n",
        "    z2 = z1 + l1 * math.sin(theta2)\n",
        "\n",
        "    total_angle = theta2 + theta3\n",
        "    x3 = x2 + l2 * math.cos(total_angle) * math.cos(theta1)\n",
        "    y3 = y2 + l2 * math.cos(total_angle) * math.sin(theta1)\n",
        "    z3 = z2 + l2 * math.sin(total_angle)\n",
        "\n",
        "    return [(x0, y0, z0), (x1, y1, z1), (x2, y2, z2), (x3, y3, z3)]"
      ]
    },
    {
      "cell_type": "code",
      "execution_count": 4,
      "id": "2360dd98",
      "metadata": {
        "colab": {
          "base_uri": "https://localhost:8080/"
        },
        "id": "2360dd98",
        "outputId": "4dbbff3d-d574-4409-dd17-e767cb9b365b"
      },
      "outputs": [
        {
          "output_type": "stream",
          "name": "stdout",
          "text": [
            "[0. 0. 0.]\n"
          ]
        }
      ],
      "source": [
        "point = np.array([4.5, 5, 2])\n",
        "result = inverse_kinematics_point(point[0], point[1], point[2], elbow_up=False)\n",
        "\n",
        "fk = forward_kinematics_points(result[0], result[1], result[2])\n",
        "compare = fk[3]\n",
        "new_diff = np.round(point - compare, 1)\n",
        "\n",
        "print(new_diff)"
      ]
    },
    {
      "cell_type": "code",
      "execution_count": 5,
      "id": "3350842b",
      "metadata": {
        "id": "3350842b"
      },
      "outputs": [],
      "source": [
        "import itertools\n",
        "\n",
        "# initiate the ranges of possible integer values of x, y and z\n",
        "range_y = range(-5, 6)   # -5 to 5\n",
        "range_x = range(6, 15)   # 6 to 14\n",
        "range_z = range(0, 7)    # 0 to 6\n",
        "\n",
        "# create every combination of the previous:\n",
        "combinations = list(itertools.product(range_y, range_x, range_z))\n",
        "\n",
        "space = np.array(combinations)"
      ]
    },
    {
      "cell_type": "code",
      "execution_count": 12,
      "id": "530be2b6",
      "metadata": {
        "id": "530be2b6"
      },
      "outputs": [],
      "source": [
        "diffs = np.empty((1,))\n",
        "\n",
        "# apply inverse kinematics followed by direct kinematics to every points, to check function complementarity:\n",
        "for point in space:\n",
        "    result = inverse_kinematics_point(point[0], point[1], point[2], elbow_up=True)\n",
        "    fk = forward_kinematics_points(result[0], result[1], result[2])\n",
        "    compare = fk[3]\n",
        "    new_diff = np.round(np.abs(point - compare), 3)\n",
        "\n",
        "    diffs = np.append(diffs,new_diff)"
      ]
    },
    {
      "cell_type": "code",
      "execution_count": 13,
      "id": "a9b0029d",
      "metadata": {
        "colab": {
          "base_uri": "https://localhost:8080/"
        },
        "id": "a9b0029d",
        "outputId": "524cd912-63b9-419e-9cee-46fb64b767ad"
      },
      "outputs": [
        {
          "output_type": "stream",
          "name": "stdout",
          "text": [
            "[0. 0. 0. ... 0. 0. 0.]\n"
          ]
        }
      ],
      "source": [
        "print(diffs)"
      ]
    }
  ],
  "metadata": {
    "kernelspec": {
      "display_name": "base",
      "language": "python",
      "name": "python3"
    },
    "language_info": {
      "codemirror_mode": {
        "name": "ipython",
        "version": 3
      },
      "file_extension": ".py",
      "mimetype": "text/x-python",
      "name": "python",
      "nbconvert_exporter": "python",
      "pygments_lexer": "ipython3",
      "version": "3.12.3"
    },
    "colab": {
      "provenance": []
    }
  },
  "nbformat": 4,
  "nbformat_minor": 5
}