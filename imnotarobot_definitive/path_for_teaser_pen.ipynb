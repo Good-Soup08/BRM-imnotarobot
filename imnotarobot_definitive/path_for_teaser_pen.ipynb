{
  "cells": [
    {
      "cell_type": "code",
      "execution_count": null,
      "id": "c3babe26",
      "metadata": {
        "id": "c3babe26"
      },
      "outputs": [],
      "source": [
        "import numpy as np\n",
        "import os"
      ]
    },
    {
      "cell_type": "code",
      "execution_count": 1,
      "id": "f7da980c",
      "metadata": {
        "colab": {
          "base_uri": "https://localhost:8080/",
          "height": 211
        },
        "id": "f7da980c",
        "outputId": "dec446e0-6479-4566-f422-ec69f1eba241"
      },
      "outputs": [
        {
          "output_type": "error",
          "ename": "NameError",
          "evalue": "name 'np' is not defined",
          "traceback": [
            "\u001b[0;31m---------------------------------------------------------------------------\u001b[0m",
            "\u001b[0;31mNameError\u001b[0m                                 Traceback (most recent call last)",
            "\u001b[0;32m<ipython-input-1-56d2341ca300>\u001b[0m in \u001b[0;36m<cell line: 0>\u001b[0;34m()\u001b[0m\n\u001b[1;32m     10\u001b[0m \u001b[0;34m\u001b[0m\u001b[0m\n\u001b[1;32m     11\u001b[0m \u001b[0;31m# Create the first column using linspace\u001b[0m\u001b[0;34m\u001b[0m\u001b[0;34m\u001b[0m\u001b[0m\n\u001b[0;32m---> 12\u001b[0;31m \u001b[0mcol1\u001b[0m \u001b[0;34m=\u001b[0m \u001b[0mnp\u001b[0m\u001b[0;34m.\u001b[0m\u001b[0mlinspace\u001b[0m\u001b[0;34m(\u001b[0m\u001b[0mstart\u001b[0m\u001b[0;34m,\u001b[0m \u001b[0mend\u001b[0m\u001b[0;34m,\u001b[0m \u001b[0mnum_rows\u001b[0m\u001b[0;34m)\u001b[0m\u001b[0;34m.\u001b[0m\u001b[0mreshape\u001b[0m\u001b[0;34m(\u001b[0m\u001b[0;34m-\u001b[0m\u001b[0;36m1\u001b[0m\u001b[0;34m,\u001b[0m \u001b[0;36m1\u001b[0m\u001b[0;34m)\u001b[0m\u001b[0;34m\u001b[0m\u001b[0;34m\u001b[0m\u001b[0m\n\u001b[0m\u001b[1;32m     13\u001b[0m \u001b[0;34m\u001b[0m\u001b[0m\n\u001b[1;32m     14\u001b[0m \u001b[0;31m# Create constant columns\u001b[0m\u001b[0;34m\u001b[0m\u001b[0;34m\u001b[0m\u001b[0m\n",
            "\u001b[0;31mNameError\u001b[0m: name 'np' is not defined"
          ]
        }
      ],
      "source": [
        "start = 90        # start of the range\n",
        "end = 30          # end of the range\n",
        "num_rows = 30     # number of equally spaced values\n",
        "\n",
        "# constant values for some columns\n",
        "const_col2 = 100\n",
        "const_col3 = 110\n",
        "const_col4 = 110\n",
        "\n",
        "# create the non constant column\n",
        "col1 = np.linspace(start, end, num_rows).reshape(-1, 1)\n",
        "\n",
        "# create constant columns\n",
        "col2 = np.full((num_rows, 1), const_col2)\n",
        "col3 = np.full((num_rows, 1), const_col3)\n",
        "col4 = np.full((num_rows, 1), const_col4)\n",
        "\n",
        "# combine all columns horizontally\n",
        "array1 = np.hstack((col1, col2, col3, col4))"
      ]
    },
    {
      "cell_type": "code",
      "execution_count": null,
      "id": "4abb21f2",
      "metadata": {
        "id": "4abb21f2"
      },
      "outputs": [],
      "source": [
        "start = 100        # start of the range\n",
        "end = 125          # end of the range\n",
        "num_rows = 15      # number of equally spaced values\n",
        "\n",
        "# constant values for some columns\n",
        "const_col1 = 30\n",
        "const_col3 = 110\n",
        "const_col4 = 110\n",
        "\n",
        "# create the non constant column\n",
        "col2 = np.linspace(start, end, num_rows).reshape(-1, 1)\n",
        "\n",
        "# create constant columns\n",
        "col1 = np.full((num_rows, 1), const_col1)\n",
        "col3 = np.full((num_rows, 1), const_col3)\n",
        "col4 = np.full((num_rows, 1), const_col4)\n",
        "\n",
        "# combine all columns horizontally\n",
        "array2 = np.hstack((col1, col2, col3, col4))"
      ]
    },
    {
      "cell_type": "code",
      "execution_count": 2,
      "id": "d027b6c0",
      "metadata": {
        "colab": {
          "base_uri": "https://localhost:8080/",
          "height": 211
        },
        "id": "d027b6c0",
        "outputId": "34a64e8e-4a74-491a-8929-fc0ab2fe674c"
      },
      "outputs": [
        {
          "output_type": "error",
          "ename": "NameError",
          "evalue": "name 'np' is not defined",
          "traceback": [
            "\u001b[0;31m---------------------------------------------------------------------------\u001b[0m",
            "\u001b[0;31mNameError\u001b[0m                                 Traceback (most recent call last)",
            "\u001b[0;32m<ipython-input-2-d8dee5458357>\u001b[0m in \u001b[0;36m<cell line: 0>\u001b[0;34m()\u001b[0m\n\u001b[1;32m     10\u001b[0m \u001b[0;34m\u001b[0m\u001b[0m\n\u001b[1;32m     11\u001b[0m \u001b[0;31m# Create the first column using linspace\u001b[0m\u001b[0;34m\u001b[0m\u001b[0;34m\u001b[0m\u001b[0m\n\u001b[0;32m---> 12\u001b[0;31m \u001b[0mcol3\u001b[0m \u001b[0;34m=\u001b[0m \u001b[0mnp\u001b[0m\u001b[0;34m.\u001b[0m\u001b[0mlinspace\u001b[0m\u001b[0;34m(\u001b[0m\u001b[0mstart\u001b[0m\u001b[0;34m,\u001b[0m \u001b[0mend\u001b[0m\u001b[0;34m,\u001b[0m \u001b[0mnum_rows\u001b[0m\u001b[0;34m)\u001b[0m\u001b[0;34m.\u001b[0m\u001b[0mreshape\u001b[0m\u001b[0;34m(\u001b[0m\u001b[0;34m-\u001b[0m\u001b[0;36m1\u001b[0m\u001b[0;34m,\u001b[0m \u001b[0;36m1\u001b[0m\u001b[0;34m)\u001b[0m\u001b[0;34m\u001b[0m\u001b[0;34m\u001b[0m\u001b[0m\n\u001b[0m\u001b[1;32m     13\u001b[0m \u001b[0;34m\u001b[0m\u001b[0m\n\u001b[1;32m     14\u001b[0m \u001b[0;31m# Create constant columns\u001b[0m\u001b[0;34m\u001b[0m\u001b[0;34m\u001b[0m\u001b[0m\n",
            "\u001b[0;31mNameError\u001b[0m: name 'np' is not defined"
          ]
        }
      ],
      "source": [
        "start = 110        # start of the range\n",
        "end = 60           # end of the range\n",
        "num_rows = 20      # number of equally spaced values\n",
        "\n",
        "# constant values for some columns\n",
        "const_col1 = 30\n",
        "const_col2 = 125\n",
        "const_col4 = 110\n",
        "\n",
        "# create the non constant column\n",
        "col3 = np.linspace(start, end, num_rows).reshape(-1, 1)\n",
        "\n",
        "# create constant columns\n",
        "col1 = np.full((num_rows, 1), const_col1)\n",
        "col2 = np.full((num_rows, 1), const_col2)\n",
        "col4 = np.full((num_rows, 1), const_col4)\n",
        "\n",
        "# combine all columns horizontally\n",
        "array3 = np.hstack((col1, col2, col3, col4))"
      ]
    },
    {
      "cell_type": "code",
      "execution_count": 3,
      "id": "7c69469e",
      "metadata": {
        "colab": {
          "base_uri": "https://localhost:8080/",
          "height": 211
        },
        "id": "7c69469e",
        "outputId": "1e734fac-c12b-4285-8136-ec5dd21f96ba"
      },
      "outputs": [
        {
          "output_type": "error",
          "ename": "NameError",
          "evalue": "name 'np' is not defined",
          "traceback": [
            "\u001b[0;31m---------------------------------------------------------------------------\u001b[0m",
            "\u001b[0;31mNameError\u001b[0m                                 Traceback (most recent call last)",
            "\u001b[0;32m<ipython-input-3-d711575c5cf5>\u001b[0m in \u001b[0;36m<cell line: 0>\u001b[0;34m()\u001b[0m\n\u001b[1;32m     10\u001b[0m \u001b[0;34m\u001b[0m\u001b[0m\n\u001b[1;32m     11\u001b[0m \u001b[0;31m# Create the first column using linspace\u001b[0m\u001b[0;34m\u001b[0m\u001b[0;34m\u001b[0m\u001b[0m\n\u001b[0;32m---> 12\u001b[0;31m \u001b[0mcol4\u001b[0m \u001b[0;34m=\u001b[0m \u001b[0mnp\u001b[0m\u001b[0;34m.\u001b[0m\u001b[0mlinspace\u001b[0m\u001b[0;34m(\u001b[0m\u001b[0mstart\u001b[0m\u001b[0;34m,\u001b[0m \u001b[0mend\u001b[0m\u001b[0;34m,\u001b[0m \u001b[0mnum_rows\u001b[0m\u001b[0;34m)\u001b[0m\u001b[0;34m.\u001b[0m\u001b[0mreshape\u001b[0m\u001b[0;34m(\u001b[0m\u001b[0;34m-\u001b[0m\u001b[0;36m1\u001b[0m\u001b[0;34m,\u001b[0m \u001b[0;36m1\u001b[0m\u001b[0;34m)\u001b[0m\u001b[0;34m\u001b[0m\u001b[0;34m\u001b[0m\u001b[0m\n\u001b[0m\u001b[1;32m     13\u001b[0m \u001b[0;34m\u001b[0m\u001b[0m\n\u001b[1;32m     14\u001b[0m \u001b[0;31m# Create constant columns\u001b[0m\u001b[0;34m\u001b[0m\u001b[0;34m\u001b[0m\u001b[0m\n",
            "\u001b[0;31mNameError\u001b[0m: name 'np' is not defined"
          ]
        }
      ],
      "source": [
        "start = 110        # start of the range\n",
        "end = 170          # end of the range\n",
        "num_rows = 30      # number of equally spaced values\n",
        "\n",
        "# constant values for some columns\n",
        "const_col1 = 30\n",
        "const_col2 = 125\n",
        "const_col3 = 60\n",
        "\n",
        "# create the non constant column\n",
        "col4 = np.linspace(start, end, num_rows).reshape(-1, 1)\n",
        "\n",
        "# create constant columns\n",
        "col1 = np.full((num_rows, 1), const_col1)\n",
        "col2 = np.full((num_rows, 1), const_col2)\n",
        "col3 = np.full((num_rows, 1), const_col3)\n",
        "\n",
        "# combine all columns horizontally\n",
        "array4 = np.hstack((col1, col2, col3, col4))"
      ]
    },
    {
      "cell_type": "code",
      "execution_count": null,
      "id": "4ef1576d",
      "metadata": {
        "id": "4ef1576d"
      },
      "outputs": [],
      "source": [
        "array5 = array3[::-1].copy()\n",
        "array6 = array2[::-1].copy()\n",
        "array7 = array1[::-1].copy()\n",
        "\n",
        "array5[:, 3] = 170\n",
        "array6[:, 3] = 170\n",
        "array7[:, 3] = 170"
      ]
    },
    {
      "cell_type": "code",
      "execution_count": null,
      "id": "9cf3b67e",
      "metadata": {
        "id": "9cf3b67e",
        "outputId": "f73d1f07-5334-48cd-c70a-7f05f7b17092"
      },
      "outputs": [
        {
          "name": "stdout",
          "output_type": "stream",
          "text": [
            "(160, 4)\n"
          ]
        }
      ],
      "source": [
        "# Stack them vertically\n",
        "stacked = np.vstack((array1, array2, array3, array4, array5, array6, array7))\n",
        "\n",
        "np.save(\"paths/pick_pen.npy\",stacked)"
      ]
    }
  ],
  "metadata": {
    "kernelspec": {
      "display_name": "Python 3",
      "language": "python",
      "name": "python3"
    },
    "language_info": {
      "codemirror_mode": {
        "name": "ipython",
        "version": 3
      },
      "file_extension": ".py",
      "mimetype": "text/x-python",
      "name": "python",
      "nbconvert_exporter": "python",
      "pygments_lexer": "ipython3",
      "version": "3.11.9"
    },
    "colab": {
      "provenance": []
    }
  },
  "nbformat": 4,
  "nbformat_minor": 5
}