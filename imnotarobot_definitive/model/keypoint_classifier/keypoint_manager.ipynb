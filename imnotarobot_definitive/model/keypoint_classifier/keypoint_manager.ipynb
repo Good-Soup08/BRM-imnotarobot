{
 "cells": [
  {
   "cell_type": "markdown",
   "id": "ec26620f",
   "metadata": {},
   "source": [
    "## Managing keypoints.csv ##"
   ]
  },
  {
   "cell_type": "code",
   "execution_count": 2,
   "id": "83922699",
   "metadata": {},
   "outputs": [],
   "source": [
    "import csv\n",
    "\n",
    "def read_csv(file_path):\n",
    "    \"\"\"Reads CSV into a list of rows (as lists).\"\"\"\n",
    "    with open(file_path, 'r') as f:\n",
    "        reader = csv.reader(f)\n",
    "        data = list(reader)\n",
    "    return data"
   ]
  },
  {
   "cell_type": "code",
   "execution_count": 5,
   "id": "b3e90287",
   "metadata": {},
   "outputs": [],
   "source": [
    "def count_label(data, label):\n",
    "    \"\"\"Prints the count of rows with the given label.\"\"\"\n",
    "    label_str = str(label)\n",
    "    count = sum(1 for row in data if row[0] == label_str)\n",
    "    print(f\"Label '{label}' has {count} input photos.\")"
   ]
  },
  {
   "cell_type": "code",
   "execution_count": 3,
   "id": "9387f8af",
   "metadata": {},
   "outputs": [],
   "source": [
    "def delete_label(data, label):\n",
    "    \"\"\"Removes all rows with the given label.\"\"\"\n",
    "    label_str = str(label)\n",
    "    filtered_data = [row for row in data if row[0] != label_str]\n",
    "    print(f\"Deleted rows with label '{label}'.\")\n",
    "    return filtered_data"
   ]
  },
  {
   "cell_type": "code",
   "execution_count": 4,
   "id": "0d7f8cc5",
   "metadata": {},
   "outputs": [],
   "source": [
    "def save_csv(data, file_path):\n",
    "    \"\"\"Saves the modified data back to a CSV file.\"\"\"\n",
    "    with open(file_path, 'w', newline='') as f:\n",
    "        writer = csv.writer(f)\n",
    "        writer.writerows(data)"
   ]
  },
  {
   "cell_type": "code",
   "execution_count": 15,
   "id": "e9577193",
   "metadata": {},
   "outputs": [
    {
     "name": "stdout",
     "output_type": "stream",
     "text": [
      "Label '3' has 675 input photos.\n",
      "Deleted rows with label '6'.\n"
     ]
    }
   ],
   "source": [
    "file_path = \"keypoint.csv\"\n",
    "data = read_csv(file_path)\n",
    "    \n",
    "# Count a label\n",
    "count_label(data, 3)\n",
    "\n",
    "# Delete a label and save result\n",
    "data = delete_label(data, 6)\n",
    "save_csv(data, \"filtered_\" + file_path)"
   ]
  },
  {
   "cell_type": "code",
   "execution_count": 10,
   "id": "bf68f225",
   "metadata": {},
   "outputs": [
    {
     "name": "stdout",
     "output_type": "stream",
     "text": [
      "Label '0' has 1522 input photos.\n",
      "Label '1' has 1572 input photos.\n",
      "Label '2' has 1356 input photos.\n",
      "Label '3' has 675 input photos.\n",
      "Label '4' has 668 input photos.\n",
      "Label '5' has 594 input photos.\n",
      "Label '6' has 500 input photos.\n",
      "Label '7' has 747 input photos.\n",
      "Label '8' has 611 input photos.\n",
      "Label '9' has 614 input photos.\n",
      "Label '10' has 578 input photos.\n",
      "Label '11' has 875 input photos.\n"
     ]
    }
   ],
   "source": [
    "file_path = \"keypoint.csv\"\n",
    "data = read_csv(file_path)\n",
    "\n",
    "count_label(data,0)\n",
    "count_label(data,1)\n",
    "count_label(data,2)\n",
    "count_label(data,3)\n",
    "count_label(data,4)\n",
    "count_label(data,5)\n",
    "count_label(data,6)\n",
    "count_label(data,7)\n",
    "count_label(data,8)\n",
    "count_label(data,9)\n",
    "count_label(data,10)\n",
    "count_label(data,11)\n"
   ]
  },
  {
   "cell_type": "code",
   "execution_count": 7,
   "id": "d4eb9239",
   "metadata": {},
   "outputs": [
    {
     "name": "stdout",
     "output_type": "stream",
     "text": [
      "Deleted rows with label '5'.\n"
     ]
    }
   ],
   "source": [
    "file_path = \"keypoint_old_peace.csv\"\n",
    "data = read_csv(file_path)\n",
    "\n",
    "data = delete_label(data, 5)\n",
    "save_csv(data, \"filtered_\" + file_path)"
   ]
  },
  {
   "cell_type": "code",
   "execution_count": 9,
   "id": "114aded2",
   "metadata": {},
   "outputs": [
    {
     "name": "stdout",
     "output_type": "stream",
     "text": [
      "Label '5' has 594 input photos.\n"
     ]
    }
   ],
   "source": [
    "file_path = \"keypoint.csv\"\n",
    "data = read_csv(file_path)\n",
    "\n",
    "count_label(data,5)"
   ]
  },
  {
   "cell_type": "code",
   "execution_count": null,
   "id": "dfe3ad06",
   "metadata": {},
   "outputs": [],
   "source": []
  }
 ],
 "metadata": {
  "kernelspec": {
   "display_name": "Python 3",
   "language": "python",
   "name": "python3"
  },
  "language_info": {
   "codemirror_mode": {
    "name": "ipython",
    "version": 3
   },
   "file_extension": ".py",
   "mimetype": "text/x-python",
   "name": "python",
   "nbconvert_exporter": "python",
   "pygments_lexer": "ipython3",
   "version": "3.11.9"
  }
 },
 "nbformat": 4,
 "nbformat_minor": 5
}
