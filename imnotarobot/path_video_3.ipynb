{
 "cells": [
  {
   "cell_type": "code",
   "execution_count": 5,
   "id": "c3babe26",
   "metadata": {},
   "outputs": [],
   "source": [
    "import numpy as np\n",
    "import os"
   ]
  },
  {
   "cell_type": "code",
   "execution_count": 6,
   "id": "ce41725e",
   "metadata": {},
   "outputs": [],
   "source": [
    "# Parameters\n",
    "start = 90        # start of the range\n",
    "end = 270        # end of the range\n",
    "num_rows = 90   # number of equally spaced values\n",
    "\n",
    "# Constant values for columns 2, 3, and 4\n",
    "const_col2 = 100\n",
    "const_col3 = 110\n",
    "const_col4 = 110\n",
    "\n",
    "# Create the first column using linspace\n",
    "col1 = np.linspace(start, end, num_rows).reshape(-1, 1)\n",
    "\n",
    "# Create constant columns\n",
    "col2 = np.full((num_rows, 1), const_col2)\n",
    "col3 = np.full((num_rows, 1), const_col3)\n",
    "col4 = np.full((num_rows, 1), const_col4)\n",
    "\n",
    "# Combine all columns horizontally\n",
    "array1 = np.hstack((col1, col2, col3, col4))"
   ]
  },
  {
   "cell_type": "code",
   "execution_count": 7,
   "id": "e9776380",
   "metadata": {},
   "outputs": [],
   "source": [
    "# Parameters\n",
    "start2 = 100        # start of the range\n",
    "end2 = 10        # end of the range\n",
    "num_rows2 = 50   # number of equally spaced values\n",
    "\n",
    "# Constant values for columns 2, 3, and 4\n",
    "const_col1 = 180\n",
    "const_col3 = 110\n",
    "const_col4 = 110\n",
    "\n",
    "# Create the first column using linspace\n",
    "col2 = np.linspace(start2, end2, num_rows2).reshape(-1, 1)\n",
    "\n",
    "# Create constant columns\n",
    "col1 = np.full((num_rows2, 1), const_col1)\n",
    "col3 = np.full((num_rows2, 1), const_col3)\n",
    "col4 = np.full((num_rows2, 1), const_col4)\n",
    "\n",
    "# Combine all columns horizontally\n",
    "array2 = np.hstack((col1, col2, col3, col4))"
   ]
  },
  {
   "cell_type": "code",
   "execution_count": 9,
   "id": "ef057842",
   "metadata": {},
   "outputs": [],
   "source": [
    "# Parameters\n",
    "start3 = 110        # start of the range\n",
    "end3 = 70        # end of the range\n",
    "num_rows3 = 20   # number of equally spaced values\n",
    "\n",
    "# Constant values for columns 2, 3, and 4\n",
    "const_col1 = 180\n",
    "const_col2 = 10\n",
    "const_col4 = 110\n",
    "\n",
    "# Create the first column using linspace\n",
    "col3 = np.linspace(start3, end3, num_rows3).reshape(-1, 1)\n",
    "\n",
    "# Create constant columns\n",
    "col1 = np.full((num_rows3, 1), const_col1)\n",
    "col2 = np.full((num_rows3, 1), const_col2)\n",
    "col4 = np.full((num_rows3, 1), const_col4)\n",
    "\n",
    "# Combine all columns horizontally\n",
    "array3 = np.hstack((col1, col2, col3, col4))"
   ]
  },
  {
   "cell_type": "code",
   "execution_count": 10,
   "id": "cf4854ad",
   "metadata": {},
   "outputs": [
    {
     "name": "stdout",
     "output_type": "stream",
     "text": [
      "(240, 4)\n"
     ]
    }
   ],
   "source": [
    "array3_rev = array3[::-1].copy()\n",
    "\n",
    "stacked = np.vstack((array1, array2, array3, array3_rev, array3, array3_rev, array3))\n",
    "\n",
    "np.save(\"ciao.npy\",stacked)\n",
    "\n",
    "print(stacked.shape)"
   ]
  }
 ],
 "metadata": {
  "kernelspec": {
   "display_name": "Python 3",
   "language": "python",
   "name": "python3"
  },
  "language_info": {
   "codemirror_mode": {
    "name": "ipython",
    "version": 3
   },
   "file_extension": ".py",
   "mimetype": "text/x-python",
   "name": "python",
   "nbconvert_exporter": "python",
   "pygments_lexer": "ipython3",
   "version": "3.11.9"
  }
 },
 "nbformat": 4,
 "nbformat_minor": 5
}
