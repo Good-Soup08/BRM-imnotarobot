{
 "cells": [
  {
   "cell_type": "code",
   "execution_count": 1,
   "id": "fa655f1a",
   "metadata": {},
   "outputs": [],
   "source": [
    "import numpy as np"
   ]
  },
  {
   "cell_type": "code",
   "execution_count": null,
   "id": "ec97801e",
   "metadata": {},
   "outputs": [],
   "source": [
    "def ik(x,y,z):\n",
    "    global l0, l1, l2\n",
    "\n",
    "    theta0 = np.arctan2(y,x)   # returns [-π, π]\n",
    "\n",
    "    dist = np.sqrt(x**2 + y**2 + (z-l0)**2)\n",
    "    arg1 = (dist**2 - l1**2 - l2**2)/(2*l1*l2)\n",
    "    if np.abs(arg1) > 1:\n",
    "        arg1 = np.sign(arg1)\n",
    "    theta2 = np.arccos(arg1)\n",
    "\n",
    "    beta = np.arccos((z-l0)/dist)\n",
    "    arg2 = (l2**2 - l1**2 - dist**2)/(-2*l1*dist)\n",
    "    if np.abs(arg2) > 1:\n",
    "        arg2 = np.sign(arg2)\n",
    "    alpha = np.arccos(arg2)\n",
    "    theta1 = beta - alpha\n",
    "    \n",
    "    # transformar para angulos do robot:\n",
    "    theta0 = theta0 + np.pi/2\n",
    "    theta1 = theta1 + np.pi/2\n",
    "    theta2 = -theta2 + np.pi\n",
    "\n",
    "    theta0 = theta0 % (2 * np.pi)\n",
    "    theta1 = theta1 % (2 * np.pi)\n",
    "    theta2 = theta2 % (2 * np.pi)\n",
    "\n",
    "    return theta0, theta1, theta2"
   ]
  },
  {
   "cell_type": "code",
   "execution_count": null,
   "id": "8de3a833",
   "metadata": {},
   "outputs": [
    {
     "name": "stdout",
     "output_type": "stream",
     "text": [
      "[161.56505118 151.73607295  45.69617083]\n"
     ]
    }
   ],
   "source": [
    "# input:\n",
    "x = 1\n",
    "y = 3\n",
    "z = 2\n",
    "\n",
    "l0 = 6.8\n",
    "l1 = 6.1\n",
    "l2 = 8\n",
    "\n",
    "angles = ik(x,y,z)\n",
    "print(np.degrees(angles))"
   ]
  },
  {
   "cell_type": "code",
   "execution_count": null,
   "id": "06e8a81d",
   "metadata": {},
   "outputs": [
    {
     "name": "stdout",
     "output_type": "stream",
     "text": [
      "1.0000000000000004 3.000000000000001 2.0\n"
     ]
    }
   ],
   "source": [
    "# confirmar que se moveu para o sitio que queriamos:\n",
    "theta0 = angles[0]\n",
    "theta1 = angles[1]\n",
    "theta2 = angles[2]\n",
    "\n",
    "zreal = 6.8 + np.sin(np.pi-theta1) * l1 - np.sin(theta1 - theta2) * l2\n",
    "\n",
    "dreal = np.cos(np.pi-theta1) * l1 + np.cos(theta1 - theta2) * l2\n",
    "\n",
    "xreal = np.sin(theta0) * dreal\n",
    "yreal = - np.cos(theta0) * dreal\n",
    "\n",
    "print(xreal, yreal, zreal)"
   ]
  }
 ],
 "metadata": {
  "kernelspec": {
   "display_name": "base",
   "language": "python",
   "name": "python3"
  },
  "language_info": {
   "codemirror_mode": {
    "name": "ipython",
    "version": 3
   },
   "file_extension": ".py",
   "mimetype": "text/x-python",
   "name": "python",
   "nbconvert_exporter": "python",
   "pygments_lexer": "ipython3",
   "version": "3.12.4"
  }
 },
 "nbformat": 4,
 "nbformat_minor": 5
}
