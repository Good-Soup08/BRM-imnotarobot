{
 "cells": [
  {
   "cell_type": "code",
   "execution_count": 32,
   "id": "c3babe26",
   "metadata": {},
   "outputs": [],
   "source": [
    "import numpy as np\n",
    "import os"
   ]
  },
  {
   "cell_type": "code",
   "execution_count": 33,
   "id": "f7da980c",
   "metadata": {},
   "outputs": [],
   "source": [
    "# Parameters\n",
    "start = 90        # start of the range\n",
    "end = 30        # end of the range\n",
    "num_rows = 30   # number of equally spaced values\n",
    "\n",
    "# Constant values for columns 2, 3, and 4\n",
    "const_col2 = 100\n",
    "const_col3 = 110\n",
    "const_col4 = 110\n",
    "\n",
    "# Create the first column using linspace\n",
    "col1 = np.linspace(start, end, num_rows).reshape(-1, 1)\n",
    "\n",
    "# Create constant columns\n",
    "col2 = np.full((num_rows, 1), const_col2)\n",
    "col3 = np.full((num_rows, 1), const_col3)\n",
    "col4 = np.full((num_rows, 1), const_col4)\n",
    "\n",
    "# Combine all columns horizontally\n",
    "array1 = np.hstack((col1, col2, col3, col4))"
   ]
  },
  {
   "cell_type": "code",
   "execution_count": 34,
   "id": "4abb21f2",
   "metadata": {},
   "outputs": [],
   "source": [
    "# Parameters\n",
    "start = 100        # start of the range\n",
    "end = 125      # end of the range\n",
    "num_rows = 15   # number of equally spaced values\n",
    "\n",
    "# Constant values for columns 2, 3, and 4\n",
    "const_col1 = 30\n",
    "const_col3 = 110\n",
    "const_col4 = 110\n",
    "\n",
    "# Create the first column using linspace\n",
    "col2 = np.linspace(start, end, num_rows).reshape(-1, 1)\n",
    "\n",
    "# Create constant columns\n",
    "col1 = np.full((num_rows, 1), const_col1)\n",
    "col3 = np.full((num_rows, 1), const_col3)\n",
    "col4 = np.full((num_rows, 1), const_col4)\n",
    "\n",
    "# Combine all columns horizontally\n",
    "array2 = np.hstack((col1, col2, col3, col4))"
   ]
  },
  {
   "cell_type": "code",
   "execution_count": 35,
   "id": "d027b6c0",
   "metadata": {},
   "outputs": [],
   "source": [
    "# Parameters\n",
    "start = 110        # start of the range\n",
    "end = 60     # end of the range\n",
    "num_rows = 20   # number of equally spaced values\n",
    "\n",
    "# Constant values for columns 2, 3, and 4\n",
    "const_col1 = 30\n",
    "const_col2 = 125\n",
    "const_col4 = 110\n",
    "\n",
    "# Create the first column using linspace\n",
    "col3 = np.linspace(start, end, num_rows).reshape(-1, 1)\n",
    "\n",
    "# Create constant columns\n",
    "col1 = np.full((num_rows, 1), const_col1)\n",
    "col2 = np.full((num_rows, 1), const_col2)\n",
    "col4 = np.full((num_rows, 1), const_col4)\n",
    "\n",
    "# Combine all columns horizontally\n",
    "array3 = np.hstack((col1, col2, col3, col4))"
   ]
  },
  {
   "cell_type": "code",
   "execution_count": 36,
   "id": "7c69469e",
   "metadata": {},
   "outputs": [],
   "source": [
    "# Parameters\n",
    "start = 110        # start of the range\n",
    "end = 170     # end of the range\n",
    "num_rows = 30   # number of equally spaced values\n",
    "\n",
    "# Constant values for columns 2, 3, and 4\n",
    "const_col1 = 30\n",
    "const_col2 = 125\n",
    "const_col3 = 60\n",
    "\n",
    "# Create the first column using linspace\n",
    "col4 = np.linspace(start, end, num_rows).reshape(-1, 1)\n",
    "\n",
    "# Create constant columns\n",
    "col1 = np.full((num_rows, 1), const_col1)\n",
    "col2 = np.full((num_rows, 1), const_col2)\n",
    "col3 = np.full((num_rows, 1), const_col3)\n",
    "\n",
    "# Combine all columns horizontally\n",
    "array4 = np.hstack((col1, col2, col3, col4))"
   ]
  },
  {
   "cell_type": "code",
   "execution_count": 37,
   "id": "4ef1576d",
   "metadata": {},
   "outputs": [],
   "source": [
    "array5 = array3[::-1].copy()\n",
    "array6 = array2[::-1].copy()\n",
    "array7 = array1[::-1].copy()\n",
    "\n",
    "array5[:, 3] = 170\n",
    "array6[:, 3] = 170\n",
    "array7[:, 3] = 170"
   ]
  },
  {
   "cell_type": "code",
   "execution_count": 38,
   "id": "9cf3b67e",
   "metadata": {},
   "outputs": [
    {
     "name": "stdout",
     "output_type": "stream",
     "text": [
      "(160, 4)\n"
     ]
    }
   ],
   "source": [
    "# Stack them vertically\n",
    "stacked = np.vstack((array1, array2, array3, array4, array5, array6, array7))\n",
    "\n",
    "np.save(\"pick_pen.npy\",stacked)\n",
    "\n",
    "print(stacked.shape)"
   ]
  }
 ],
 "metadata": {
  "kernelspec": {
   "display_name": "Python 3",
   "language": "python",
   "name": "python3"
  },
  "language_info": {
   "codemirror_mode": {
    "name": "ipython",
    "version": 3
   },
   "file_extension": ".py",
   "mimetype": "text/x-python",
   "name": "python",
   "nbconvert_exporter": "python",
   "pygments_lexer": "ipython3",
   "version": "3.11.9"
  }
 },
 "nbformat": 4,
 "nbformat_minor": 5
}
