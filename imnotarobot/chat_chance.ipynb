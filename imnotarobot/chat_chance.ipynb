{
 "cells": [
  {
   "cell_type": "code",
   "execution_count": 1,
   "id": "b4fea5cb",
   "metadata": {},
   "outputs": [],
   "source": [
    "import math\n",
    "import numpy as np"
   ]
  },
  {
   "cell_type": "code",
   "execution_count": null,
   "id": "d1a3b10e",
   "metadata": {},
   "outputs": [
    {
     "data": {
      "text/plain": [
       "'\\ndef inverse_kinematics(x, y, z):\\n\\n    #Return both elbow-down and elbow-up solutions, if reachable.\\n\\n    #Returns:\\n        #solutions: list of (theta1_deg, theta2_deg, theta3_deg)\\n\\n    sols = []\\n    for elbow_up in (False, True):\\n        try:\\n            sols.append(inverse_kinematics_point(x, y, z, elbow_up=elbow_up))\\n        except ValueError:\\n            # skip unreachable for that branch\\n            pass\\n    if not sols:\\n        raise ValueError(f\"No IK solutions for point ({x}, {y}, {z}).\")\\n    return sols\\n\\n'"
      ]
     },
     "execution_count": 34,
     "metadata": {},
     "output_type": "execute_result"
    }
   ],
   "source": [
    "# Link lengths and shoulder height (same as in forward_kinematics_points)\n",
    "L1 = 6.1   # Shoulder → elbow\n",
    "L2 = 7.0   # Elbow → end effector\n",
    "H  = 6.8   # Shoulder height above ground\n",
    "\n",
    "def inverse_kinematics_point(x, y, z, elbow_up=False): # ta ao contrario o booleano\n",
    "    \"\"\"\n",
    "    Compute inverse kinematics for the 3-DOF arm.\n",
    "\n",
    "    Args:\n",
    "        x, y, z: Desired end-effector coordinates.\n",
    "        elbow_up: If True, returns the \"elbow-up\" solution; otherwise \"elbow-down\".\n",
    "\n",
    "    Returns:\n",
    "        (theta1_deg, theta2_deg, theta3_deg): Joint angles in degrees.\n",
    "    \n",
    "    Raises:\n",
    "        ValueError: If the point is out of reach.\n",
    "    \"\"\"\n",
    "    # 1) XY-plane yaw:\n",
    "    #    φ = θ1_rad\n",
    "    phi = math.atan2(y, x)\n",
    "    #    Map back to user angle:\n",
    "    theta1_deg = math.degrees(phi + math.pi/2)\n",
    "\n",
    "    # 2) Project into the shoulder's pitch plane:\n",
    "    #    Horizontal distance from shoulder:\n",
    "    r = math.hypot(x, y)\n",
    "    #    Vertical offset from shoulder:\n",
    "    dz = z - H\n",
    "\n",
    "    # 3) Two‑link planar IK:\n",
    "    D = (r*r + dz*dz - L1*L1 - L2*L2) / (2 * L1 * L2)\n",
    "    if abs(D) > 1.0:\n",
    "        raise ValueError(f\"Point ({x}, {y}, {z}) is out of reach (|D|={D:.3f}>1).\")\n",
    "\n",
    "    # elbow angle:\n",
    "    if elbow_up:\n",
    "        theta3_rad = math.atan2(+math.sqrt(1 - D*D), D)\n",
    "    else:\n",
    "        theta3_rad = math.atan2(-math.sqrt(1 - D*D), D)\n",
    "\n",
    "    # shoulder pitch:\n",
    "    #    α = atan2(dz, r)\n",
    "    #    β = atan2(L2*sinθ3, L1 + L2*cosθ3)\n",
    "    alpha = math.atan2(dz, r)\n",
    "    beta  = math.atan2(L2 * math.sin(theta3_rad), L1 + L2 * math.cos(theta3_rad))\n",
    "    theta2_rad = alpha - beta\n",
    "\n",
    "    # 4) Map back to your original angle conventions:\n",
    "    #    forward did: θ2_rad = π - rad(theta2_deg)  →  theta2_deg = degrees(π - θ2_rad)\n",
    "    theta2_deg = math.degrees(math.pi - theta2_rad)\n",
    "\n",
    "    #    forward did: θ3_rad = rad(theta3_deg) - π  →  rad(theta3_deg) = θ3_rad + π\n",
    "    theta3_deg = math.degrees(theta3_rad + math.pi)\n",
    "\n",
    "    return theta1_deg, theta2_deg, theta3_deg\n",
    "\n",
    "\"\"\"\n",
    "def inverse_kinematics(x, y, z):\n",
    "\n",
    "    #Return both elbow-down and elbow-up solutions, if reachable.\n",
    "\n",
    "    #Returns:\n",
    "        #solutions: list of (theta1_deg, theta2_deg, theta3_deg)\n",
    "\n",
    "    sols = []\n",
    "    for elbow_up in (False, True):\n",
    "        try:\n",
    "            sols.append(inverse_kinematics_point(x, y, z, elbow_up=elbow_up))\n",
    "        except ValueError:\n",
    "            # skip unreachable for that branch\n",
    "            pass\n",
    "    if not sols:\n",
    "        raise ValueError(f\"No IK solutions for point ({x}, {y}, {z}).\")\n",
    "    return sols\n",
    "\n",
    "\"\"\""
   ]
  },
  {
   "cell_type": "code",
   "execution_count": null,
   "id": "856be3e9",
   "metadata": {},
   "outputs": [],
   "source": [
    "def forward_kinematics_points(theta1_deg, theta2_deg, theta3_deg):\n",
    "    theta1 = math.radians(theta1_deg) - np.pi/2\n",
    "    theta2 = np.pi - math.radians(theta2_deg)\n",
    "    theta3 = -(np.pi - math.radians(theta3_deg))\n",
    "\n",
    "    l1 = 6.1   # Shoulder to elbow\n",
    "    l2 = 7.0   # Elbow to end effector\n",
    "    h = 6.8    # Shoulder height from ground\n",
    "\n",
    "    x0, y0, z0 = 0, 0, 0\n",
    "    x1, y1, z1 = 0, 0, h\n",
    "\n",
    "    x2 = x1 + l1 * math.cos(theta2) * math.cos(theta1)\n",
    "    y2 = y1 + l1 * math.cos(theta2) * math.sin(theta1)\n",
    "    z2 = z1 + l1 * math.sin(theta2)\n",
    "\n",
    "    total_angle = theta2 + theta3\n",
    "    x3 = x2 + l2 * math.cos(total_angle) * math.cos(theta1)\n",
    "    y3 = y2 + l2 * math.cos(total_angle) * math.sin(theta1)\n",
    "    z3 = z2 + l2 * math.sin(total_angle)\n",
    "\n",
    "    return [(x0, y0, z0), (x1, y1, z1), (x2, y2, z2), (x3, y3, z3)]"
   ]
  },
  {
   "cell_type": "code",
   "execution_count": 36,
   "id": "2360dd98",
   "metadata": {},
   "outputs": [
    {
     "name": "stdout",
     "output_type": "stream",
     "text": [
      "[-0.  0.  0.]\n"
     ]
    }
   ],
   "source": [
    "point = np.array([4.5, 5, 2])\n",
    "result = inverse_kinematics_point(point[0], point[1], point[2], elbow_up=False)\n",
    "\n",
    "fk = forward_kinematics_points(result[0], result[1], result[2])\n",
    "compare = fk[3]\n",
    "new_diff = np.round(point - compare, 1)\n",
    "\n",
    "print(new_diff)"
   ]
  },
  {
   "cell_type": "code",
   "execution_count": 37,
   "id": "3350842b",
   "metadata": {},
   "outputs": [],
   "source": [
    "import itertools\n",
    "\n",
    "range1 = range(-4, 5)   # -5 to 5\n",
    "range2 = range(6, 15)   # 6 to 15\n",
    "range3 = range(0, 7)    # 0 to 6\n",
    "\n",
    "combinations = list(itertools.product(range1, range2, range3))\n",
    "\n",
    "space = np.array(combinations)"
   ]
  },
  {
   "cell_type": "code",
   "execution_count": 38,
   "id": "530be2b6",
   "metadata": {},
   "outputs": [
    {
     "ename": "ValueError",
     "evalue": "Point (-4, 13, 0) is out of reach (|D|=1.029>1).",
     "output_type": "error",
     "traceback": [
      "\u001b[1;31m---------------------------------------------------------------------------\u001b[0m",
      "\u001b[1;31mValueError\u001b[0m                                Traceback (most recent call last)",
      "Cell \u001b[1;32mIn[38], line 4\u001b[0m\n\u001b[0;32m      1\u001b[0m diffs \u001b[38;5;241m=\u001b[39m np\u001b[38;5;241m.\u001b[39marray([\u001b[38;5;241m0\u001b[39m,\u001b[38;5;241m0\u001b[39m,\u001b[38;5;241m0\u001b[39m])\n\u001b[0;32m      3\u001b[0m \u001b[38;5;28;01mfor\u001b[39;00m point \u001b[38;5;129;01min\u001b[39;00m space:\n\u001b[1;32m----> 4\u001b[0m     result \u001b[38;5;241m=\u001b[39m inverse_kinematics_point(point[\u001b[38;5;241m0\u001b[39m], point[\u001b[38;5;241m1\u001b[39m], point[\u001b[38;5;241m2\u001b[39m], elbow_up\u001b[38;5;241m=\u001b[39m\u001b[38;5;28;01mFalse\u001b[39;00m)\n\u001b[0;32m      5\u001b[0m     fk \u001b[38;5;241m=\u001b[39m forward_kinematics_points(result[\u001b[38;5;241m0\u001b[39m], result[\u001b[38;5;241m1\u001b[39m], result[\u001b[38;5;241m2\u001b[39m])\n\u001b[0;32m      6\u001b[0m     compare \u001b[38;5;241m=\u001b[39m fk[\u001b[38;5;241m3\u001b[39m]\n",
      "Cell \u001b[1;32mIn[34], line 35\u001b[0m, in \u001b[0;36minverse_kinematics_point\u001b[1;34m(x, y, z, elbow_up)\u001b[0m\n\u001b[0;32m     33\u001b[0m D \u001b[38;5;241m=\u001b[39m (r\u001b[38;5;241m*\u001b[39mr \u001b[38;5;241m+\u001b[39m dz\u001b[38;5;241m*\u001b[39mdz \u001b[38;5;241m-\u001b[39m L1\u001b[38;5;241m*\u001b[39mL1 \u001b[38;5;241m-\u001b[39m L2\u001b[38;5;241m*\u001b[39mL2) \u001b[38;5;241m/\u001b[39m (\u001b[38;5;241m2\u001b[39m \u001b[38;5;241m*\u001b[39m L1 \u001b[38;5;241m*\u001b[39m L2)\n\u001b[0;32m     34\u001b[0m \u001b[38;5;28;01mif\u001b[39;00m \u001b[38;5;28mabs\u001b[39m(D) \u001b[38;5;241m>\u001b[39m \u001b[38;5;241m1.0\u001b[39m:\n\u001b[1;32m---> 35\u001b[0m     \u001b[38;5;28;01mraise\u001b[39;00m \u001b[38;5;167;01mValueError\u001b[39;00m(\u001b[38;5;124mf\u001b[39m\u001b[38;5;124m\"\u001b[39m\u001b[38;5;124mPoint (\u001b[39m\u001b[38;5;132;01m{\u001b[39;00mx\u001b[38;5;132;01m}\u001b[39;00m\u001b[38;5;124m, \u001b[39m\u001b[38;5;132;01m{\u001b[39;00my\u001b[38;5;132;01m}\u001b[39;00m\u001b[38;5;124m, \u001b[39m\u001b[38;5;132;01m{\u001b[39;00mz\u001b[38;5;132;01m}\u001b[39;00m\u001b[38;5;124m) is out of reach (|D|=\u001b[39m\u001b[38;5;132;01m{\u001b[39;00mD\u001b[38;5;132;01m:\u001b[39;00m\u001b[38;5;124m.3f\u001b[39m\u001b[38;5;132;01m}\u001b[39;00m\u001b[38;5;124m>1).\u001b[39m\u001b[38;5;124m\"\u001b[39m)\n\u001b[0;32m     37\u001b[0m \u001b[38;5;66;03m# elbow angle:\u001b[39;00m\n\u001b[0;32m     38\u001b[0m \u001b[38;5;28;01mif\u001b[39;00m elbow_up:\n",
      "\u001b[1;31mValueError\u001b[0m: Point (-4, 13, 0) is out of reach (|D|=1.029>1)."
     ]
    }
   ],
   "source": [
    "diffs = np.array([0,0,0])\n",
    "\n",
    "for point in space:\n",
    "    result = inverse_kinematics_point(point[0], point[1], point[2], elbow_up=False)\n",
    "    fk = forward_kinematics_points(result[0], result[1], result[2])\n",
    "    compare = fk[3]\n",
    "    new_diff = np.round(np.abs(point - compare), 3)\n",
    "    \n",
    "    diffs = np.append(diffs,new_diff)"
   ]
  },
  {
   "cell_type": "code",
   "execution_count": null,
   "id": "a9b0029d",
   "metadata": {},
   "outputs": [
    {
     "name": "stdout",
     "output_type": "stream",
     "text": [
      "[0. 0. 0. 0. 0. 0. 0. 0. 0. 0. 0. 0. 0. 0. 0. 0. 0. 0. 0. 0. 0. 0. 0. 0.\n",
      " 0. 0. 0. 0. 0. 0. 0. 0. 0. 0. 0. 0. 0. 0. 0. 0. 0. 0. 0. 0. 0. 0. 0. 0.\n",
      " 0. 0. 0. 0. 0. 0. 0. 0. 0. 0. 0. 0. 0. 0. 0. 0. 0. 0. 0. 0. 0. 0. 0. 0.\n",
      " 0. 0. 0. 0. 0. 0. 0. 0. 0. 0. 0. 0. 0. 0. 0. 0. 0. 0. 0. 0. 0. 0. 0. 0.\n",
      " 0. 0. 0. 0. 0. 0. 0. 0. 0. 0. 0. 0. 0. 0. 0. 0. 0. 0. 0. 0. 0. 0. 0. 0.\n",
      " 0. 0. 0. 0. 0. 0. 0. 0. 0. 0. 0. 0. 0. 0. 0. 0. 0. 0. 0. 0. 0. 0. 0. 0.\n",
      " 0. 0. 0. 0. 0. 0. 0. 0. 0. 0. 0. 0. 0. 0. 0. 0. 0. 0. 0. 0. 0. 0. 0. 0.\n",
      " 0. 0. 0. 0. 0. 0. 0. 0. 0. 0. 0. 0. 0. 0. 0. 0. 0. 0. 0. 0. 0. 0. 0. 0.\n",
      " 0. 0. 0. 0. 0. 0. 0. 0. 0. 0. 0. 0. 0. 0. 0. 0. 0. 0. 0. 0. 0. 0. 0. 0.\n",
      " 0. 0. 0. 0. 0. 0. 0. 0. 0. 0. 0. 0. 0. 0. 0. 0. 0. 0. 0. 0. 0. 0. 0. 0.\n",
      " 0. 0. 0. 0. 0. 0. 0. 0. 0. 0. 0. 0. 0. 0. 0. 0. 0. 0. 0. 0. 0. 0. 0. 0.\n",
      " 0. 0. 0. 0. 0. 0. 0. 0. 0. 0. 0. 0. 0. 0. 0. 0. 0. 0. 0. 0. 0. 0. 0. 0.\n",
      " 0. 0. 0. 0. 0. 0. 0. 0. 0. 0. 0. 0. 0. 0. 0. 0. 0. 0. 0. 0. 0. 0. 0. 0.\n",
      " 0. 0. 0. 0. 0. 0. 0. 0. 0. 0. 0. 0. 0. 0. 0. 0. 0. 0. 0. 0. 0. 0. 0. 0.\n",
      " 0. 0. 0. 0. 0. 0. 0. 0. 0. 0. 0. 0. 0. 0. 0. 0. 0. 0. 0. 0. 0. 0. 0. 0.\n",
      " 0. 0. 0. 0. 0. 0. 0. 0. 0. 0. 0. 0. 0. 0. 0. 0. 0. 0. 0. 0. 0. 0. 0. 0.\n",
      " 0. 0. 0. 0. 0. 0. 0. 0. 0. 0. 0. 0. 0. 0. 0. 0. 0. 0. 0. 0. 0. 0. 0. 0.\n",
      " 0. 0. 0. 0. 0. 0. 0. 0. 0. 0. 0. 0. 0. 0. 0. 0. 0. 0. 0. 0. 0. 0. 0. 0.\n",
      " 0. 0. 0. 0. 0. 0. 0. 0. 0. 0. 0. 0. 0. 0. 0. 0. 0. 0. 0. 0. 0. 0. 0. 0.\n",
      " 0. 0. 0. 0. 0. 0. 0. 0. 0. 0. 0. 0. 0. 0. 0. 0. 0. 0. 0. 0. 0. 0. 0. 0.\n",
      " 0. 0. 0. 0. 0. 0. 0. 0. 0. 0. 0. 0. 0. 0. 0. 0. 0. 0. 0. 0. 0. 0. 0. 0.\n",
      " 0. 0. 0. 0. 0. 0. 0. 0. 0. 0. 0. 0. 0. 0. 0. 0. 0. 0. 0. 0. 0. 0. 0. 0.\n",
      " 0. 0. 0. 0. 0. 0. 0. 0. 0. 0. 0. 0. 0. 0. 0. 0. 0. 0. 0. 0. 0. 0. 0. 0.\n",
      " 0. 0. 0. 0. 0. 0. 0. 0. 0. 0. 0. 0. 0. 0. 0. 0. 0. 0. 0. 0. 0. 0. 0. 0.\n",
      " 0. 0. 0. 0. 0. 0. 0. 0. 0. 0. 0. 0. 0. 0. 0. 0. 0. 0. 0. 0. 0. 0. 0. 0.\n",
      " 0. 0. 0. 0. 0. 0. 0. 0. 0. 0. 0. 0. 0. 0. 0. 0. 0. 0. 0. 0. 0. 0. 0. 0.\n",
      " 0. 0. 0. 0. 0. 0. 0. 0. 0. 0. 0. 0. 0. 0. 0. 0. 0. 0. 0. 0. 0. 0. 0. 0.\n",
      " 0. 0. 0. 0. 0. 0. 0. 0. 0. 0. 0. 0. 0. 0. 0. 0. 0. 0. 0. 0. 0. 0. 0. 0.\n",
      " 0. 0. 0. 0. 0. 0. 0. 0. 0. 0. 0. 0. 0. 0. 0. 0. 0. 0. 0. 0. 0. 0. 0. 0.\n",
      " 0. 0. 0. 0. 0. 0. 0. 0. 0. 0. 0. 0. 0. 0. 0. 0. 0. 0. 0. 0. 0. 0. 0. 0.\n",
      " 0. 0. 0. 0. 0. 0. 0. 0. 0. 0. 0. 0. 0. 0. 0. 0. 0. 0. 0. 0. 0. 0. 0. 0.\n",
      " 0. 0. 0. 0. 0. 0. 0. 0. 0. 0. 0. 0. 0. 0. 0.]\n"
     ]
    }
   ],
   "source": [
    "print(diffs)"
   ]
  }
 ],
 "metadata": {
  "kernelspec": {
   "display_name": "base",
   "language": "python",
   "name": "python3"
  },
  "language_info": {
   "codemirror_mode": {
    "name": "ipython",
    "version": 3
   },
   "file_extension": ".py",
   "mimetype": "text/x-python",
   "name": "python",
   "nbconvert_exporter": "python",
   "pygments_lexer": "ipython3",
   "version": "3.12.3"
  }
 },
 "nbformat": 4,
 "nbformat_minor": 5
}
